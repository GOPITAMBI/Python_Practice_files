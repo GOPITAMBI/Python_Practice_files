{
  "nbformat": 4,
  "nbformat_minor": 0,
  "metadata": {
    "colab": {
      "provenance": [],
      "include_colab_link": true
    },
    "kernelspec": {
      "name": "python3",
      "display_name": "Python 3"
    },
    "language_info": {
      "name": "python"
    }
  },
  "cells": [
    {
      "cell_type": "markdown",
      "metadata": {
        "id": "view-in-github",
        "colab_type": "text"
      },
      "source": [
        "<a href=\"https://colab.research.google.com/github/GOPITAMBI/Python_Practice_files/blob/master/IMDLIB_Odisha.ipynb\" target=\"_parent\"><img src=\"https://colab.research.google.com/assets/colab-badge.svg\" alt=\"Open In Colab\"/></a>"
      ]
    },
    {
      "cell_type": "code",
      "execution_count": null,
      "metadata": {
        "id": "TfjD2mg2vqEa"
      },
      "outputs": [],
      "source": [
        "# Connect Google drive with Google colab\n",
        "from google.colab import drive\n",
        "drive.mount('/content/drive')"
      ]
    },
    {
      "cell_type": "code",
      "source": [
        "pip install imdlib"
      ],
      "metadata": {
        "id": "PtPYYBK4vujK"
      },
      "execution_count": null,
      "outputs": []
    },
    {
      "cell_type": "code",
      "source": [
        "# Download the IMD raw data into the google drive\n",
        "import imdlib as imd\n",
        "import pandas as pd\n",
        "import geopandas as gpd\n",
        "from shapely.geometry import Point, Polygon\n",
        "\n",
        "path = \"/content/drive/MyDrive/Colab Notebooks\"\n",
        "\n",
        "start_yr = 1974\n",
        "end_yr = 2024\n",
        "variable = 'tmin' # other options are ('tmin'/ 'tmax')\n",
        "\n",
        "imd.get_data(variable, start_yr, end_yr, fn_format='yearwise', file_dir=path)\n",
        "data = imd.open_data(variable, start_yr, end_yr,'yearwise', path)\n",
        "ds = data.get_xarray()\n",
        "print(ds)\n",
        "\n"
      ],
      "metadata": {
        "id": "dxoZ92AHvwNr",
        "colab": {
          "base_uri": "https://localhost:8080/"
        },
        "outputId": "5236d722-4e83-4b70-ab69-0b35e8f9f6bf"
      },
      "execution_count": 8,
      "outputs": [
        {
          "output_type": "stream",
          "name": "stdout",
          "text": [
            "Downloading: mintemp for year 1974\n",
            "Downloading: mintemp for year 1975\n",
            "Downloading: mintemp for year 1976\n",
            "Downloading: mintemp for year 1977\n",
            "Downloading: mintemp for year 1978\n",
            "Downloading: mintemp for year 1979\n",
            "Downloading: mintemp for year 1980\n",
            "Downloading: mintemp for year 1981\n",
            "Downloading: mintemp for year 1982\n",
            "Downloading: mintemp for year 1983\n",
            "Downloading: mintemp for year 1984\n",
            "Downloading: mintemp for year 1985\n",
            "Downloading: mintemp for year 1986\n",
            "Downloading: mintemp for year 1987\n",
            "Downloading: mintemp for year 1988\n",
            "Downloading: mintemp for year 1989\n",
            "Downloading: mintemp for year 1990\n",
            "Downloading: mintemp for year 1991\n",
            "Downloading: mintemp for year 1992\n",
            "Downloading: mintemp for year 1993\n",
            "Downloading: mintemp for year 1994\n",
            "Downloading: mintemp for year 1995\n",
            "Downloading: mintemp for year 1996\n",
            "Downloading: mintemp for year 1997\n",
            "Downloading: mintemp for year 1998\n",
            "Downloading: mintemp for year 1999\n",
            "Downloading: mintemp for year 2000\n",
            "Downloading: mintemp for year 2001\n",
            "Downloading: mintemp for year 2002\n",
            "Downloading: mintemp for year 2003\n",
            "Downloading: mintemp for year 2004\n",
            "Downloading: mintemp for year 2005\n",
            "Downloading: mintemp for year 2006\n",
            "Downloading: mintemp for year 2007\n",
            "Downloading: mintemp for year 2008\n",
            "Downloading: mintemp for year 2009\n",
            "Downloading: mintemp for year 2010\n",
            "Downloading: mintemp for year 2011\n",
            "Downloading: mintemp for year 2012\n",
            "Downloading: mintemp for year 2013\n",
            "Downloading: mintemp for year 2014\n",
            "Downloading: mintemp for year 2015\n",
            "Downloading: mintemp for year 2016\n",
            "Downloading: mintemp for year 2017\n",
            "Downloading: mintemp for year 2018\n",
            "Downloading: mintemp for year 2019\n",
            "Downloading: mintemp for year 2020\n",
            "Downloading: mintemp for year 2021\n",
            "Downloading: mintemp for year 2022\n",
            "Downloading: mintemp for year 2023\n",
            "Downloading: mintemp for year 2024\n",
            "Download Successful !!!\n",
            "<xarray.Dataset> Size: 143MB\n",
            "Dimensions:  (time: 18628, lat: 31, lon: 31)\n",
            "Coordinates:\n",
            "  * lat      (lat) float64 248B 7.5 8.5 9.5 10.5 11.5 ... 34.5 35.5 36.5 37.5\n",
            "  * lon      (lon) float64 248B 67.5 68.5 69.5 70.5 71.5 ... 94.5 95.5 96.5 97.5\n",
            "  * time     (time) datetime64[ns] 149kB 1974-01-01 1974-01-02 ... 2024-12-31\n",
            "Data variables:\n",
            "    tmin     (time, lat, lon) float64 143MB 99.9 99.9 99.9 ... 99.9 99.9 99.9\n",
            "Attributes:\n",
            "    Conventions:  CF-1.7\n",
            "    title:        IMD gridded data\n",
            "    source:       https://imdpune.gov.in/\n",
            "    history:      2025-03-05 09:42:47.960340 Python\n",
            "    references:   \n",
            "    comment:      \n",
            "    crs:          epsg:4326\n"
          ]
        }
      ]
    },
    {
      "cell_type": "code",
      "source": [
        "# Provide the alttitude & Longitude of a point for which the data is required\n",
        "#  And save the data into CSV file\n",
        "\n",
        "#lat = 20.03 #lattitude of point\n",
        "#lon = 77.23 #longitude of point\n",
        "#data.to_csv('data.csv', lat, lon, path)"
      ],
      "metadata": {
        "id": "jMlaw45Dv5UE"
      },
      "execution_count": null,
      "outputs": []
    },
    {
      "cell_type": "code",
      "source": [
        "# Save CSV files for multiple points\n",
        "\n",
        "# Provide lat and long in a list\n",
        "latLong = [[20.84, 85.10],\n",
        "    [20.70, 83.50],\n",
        "    [21.49, 86.93],\n",
        "    [21.34, 83.62],\n",
        "    [21.06, 86.50],\n",
        "    [20.83, 84.32],\n",
        "    [20.46, 85.88],\n",
        "    [21.53, 84.73],\n",
        "    [20.65, 85.60],\n",
        "    [19.03, 84.18],\n",
        "    [19.36, 84.79],\n",
        "    [20.26, 86.17],\n",
        "    [20.85, 86.33],\n",
        "    [21.85, 84.02],\n",
        "    [19.90, 83.17],\n",
        "    [20.30, 84.00],\n",
        "    [20.50, 86.42],\n",
        "    [21.50, 85.50],\n",
        "    [20.11, 85.40],\n",
        "    [18.80, 82.60],\n",
        "    [18.37, 81.67],\n",
        "    [21.93, 86.74],\n",
        "    [19.23, 82.55],\n",
        "    [20.13, 85.10],\n",
        "    [20.83, 82.63],\n",
        "    [19.80, 85.82],\n",
        "    [19.17, 83.42],\n",
        "    [21.45, 83.97],\n",
        "    [20.83, 83.92],\n",
        "    [22.12, 84.03]]\n",
        "\n",
        "for points in latLong:\n",
        "  lat = points[0]\n",
        "  lon = points[1]\n",
        "\n",
        "  data.to_csv('tmin.csv', lat, lon, path)\n",
        "  print (\"data save for \",points)"
      ],
      "metadata": {
        "id": "o5BHr3Fev3W6",
        "colab": {
          "base_uri": "https://localhost:8080/"
        },
        "outputId": "2def0404-306e-4604-d7e4-1beea3ec26b2"
      },
      "execution_count": 9,
      "outputs": [
        {
          "output_type": "stream",
          "name": "stdout",
          "text": [
            "data save for  [20.84, 85.1]\n",
            "data save for  [20.7, 83.5]\n",
            "data save for  [21.49, 86.93]\n",
            "data save for  [21.34, 83.62]\n",
            "data save for  [21.06, 86.5]\n",
            "data save for  [20.83, 84.32]\n",
            "data save for  [20.46, 85.88]\n",
            "data save for  [21.53, 84.73]\n",
            "data save for  [20.65, 85.6]\n",
            "data save for  [19.03, 84.18]\n",
            "data save for  [19.36, 84.79]\n",
            "data save for  [20.26, 86.17]\n",
            "data save for  [20.85, 86.33]\n",
            "data save for  [21.85, 84.02]\n",
            "data save for  [19.9, 83.17]\n",
            "data save for  [20.3, 84.0]\n",
            "data save for  [20.5, 86.42]\n",
            "data save for  [21.5, 85.5]\n",
            "data save for  [20.11, 85.4]\n",
            "data save for  [18.8, 82.6]\n",
            "data save for  [18.37, 81.67]\n",
            "data save for  [21.93, 86.74]\n",
            "data save for  [19.23, 82.55]\n",
            "data save for  [20.13, 85.1]\n",
            "data save for  [20.83, 82.63]\n",
            "data save for  [19.8, 85.82]\n",
            "data save for  [19.17, 83.42]\n",
            "data save for  [21.45, 83.97]\n",
            "data save for  [20.83, 83.92]\n",
            "data save for  [22.12, 84.03]\n"
          ]
        }
      ]
    }
  ]
}